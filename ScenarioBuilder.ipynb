{
 "cells": [
  {
   "cell_type": "markdown",
   "id": "7eabd55f",
   "metadata": {},
   "source": [
    "# Scenerio Builder\n",
    "*Use this notebook to generate new scenarios for the simulation.*"
   ]
  },
  {
   "cell_type": "code",
   "execution_count": 1,
   "id": "cdeaf52f",
   "metadata": {},
   "outputs": [],
   "source": [
    "import GWorld\n",
    "import pprint\n",
    "import json\n",
    "import numpy as np"
   ]
  },
  {
   "cell_type": "markdown",
   "id": "4c820b82",
   "metadata": {},
   "source": [
    "The Scenario Buiilder creates new scenarios using already existing scenarios as a template.\n",
    "\n",
    "## Inputs\n",
    "- `Scenario_source_file` : Name of the JSON file which has the **template scenario**\n",
    "- `Scenario_destination_file` : Name of the JSON file to which the **new scenario** is to be saved. \n",
    "- `Template_Scenario` : Name of the **template scenario** in `Scenario_source_file` which is to be used as the template for the **new scenario**\n",
    "- `new_scenario_name` : Name of the **new scenario**"
   ]
  },
  {
   "cell_type": "code",
   "execution_count": 2,
   "id": "908bc440",
   "metadata": {},
   "outputs": [],
   "source": [
    "# For creating a New Scenarion based on Some Scenario\n",
    "Template_Scenario = 'GameMap'\n",
    "new_scenario_name = 'GameMap'\n",
    "\n",
    "Scenario_source_file = 'Scenarios4FeARSims.json'\n",
    "Scenario_destination_file = 'Scenarios4GameOfFeAR.json'\n",
    "\n",
    "Scenario = GWorld.LoadJsonScenario(json_filename=Scenario_source_file,scenario_name=Template_Scenario)\n",
    "\n",
    "# Converting back to JSON format\n",
    "Scenario= json.loads(json.dumps(Scenario,indent=1, sort_keys=True))"
   ]
  },
  {
   "cell_type": "markdown",
   "id": "4d74285d",
   "metadata": {},
   "source": [
    "# View Template Scenario"
   ]
  },
  {
   "cell_type": "code",
   "execution_count": 3,
   "id": "aec7c618",
   "metadata": {},
   "outputs": [
    {
     "name": "stdout",
     "output_type": "stream",
     "text": [
      "{\"AgentLocations\": [],\n",
      " \"DirectionWeights\": [1, 1, 1, 1],\n",
      " \"Map\": {\"OneWays\": [],\n",
      "         \"Region\": [[1.0, 1.0, 1.0, 1.0, 1.0, 1.0, 1.0, 1.0, 1.0, 1.0, 1.0, 1.0, 1.0, 1.0, 1.0, 1.0, 1.0, 1.0, 1.0, 1.0],\n",
      "                    [1.0, 0.0, 0.0, 0.0, 0.0, 0.0, 0.0, 0.0, 1.0, 0.0, 0.0, 1.0, 0.0, 0.0, 0.0, 0.0, 0.0, 0.0, 0.0, 1.0],\n",
      "                    [1.0, 0.0, 0.0, 0.0, 0.0, 0.0, 0.0, 0.0, 1.0, 1.0, 1.0, 1.0, 0.0, 0.0, 0.0, 0.0, 0.0, 0.0, 0.0, 1.0],\n",
      "                    [1.0, 0.0, 0.0, 0.0, 0.0, 0.0, 0.0, 0.0, 1.0, 0.0, 0.0, 1.0, 0.0, 0.0, 0.0, 0.0, 0.0, 0.0, 0.0, 1.0],\n",
      "                    [1.0, 0.0, 0.0, 0.0, 0.0, 0.0, 0.0, 0.0, 1.0, 0.0, 0.0, 1.0, 0.0, 0.0, 0.0, 0.0, 0.0, 0.0, 0.0, 1.0],\n",
      "                    [1.0, 0.0, 0.0, 0.0, 0.0, 0.0, 0.0, 0.0, 1.0, 1.0, 1.0, 1.0, 0.0, 0.0, 0.0, 0.0, 0.0, 0.0, 0.0, 1.0],\n",
      "                    [1.0, 0.0, 0.0, 0.0, 0.0, 0.0, 0.0, 0.0, 1.0, 0.0, 0.0, 1.0, 0.0, 0.0, 0.0, 0.0, 0.0, 0.0, 0.0, 1.0],\n",
      "                    [1.0, 1.0, 1.0, 1.0, 1.0, 1.0, 1.0, 1.0, 1.0, 1.0, 1.0, 1.0, 1.0, 1.0, 1.0, 1.0, 1.0, 1.0, 1.0, 1.0]],\n",
      "         \"Walls\": []},\n",
      " \"N_Agents\": 4,\n",
      " \"N_Cases\": 10,\n",
      " \"N_iterations\": 10,\n",
      " \"SpecificAction4Agents\": [],\n",
      " \"SpecificDirectionWeights4Agents\": [],\n",
      " \"SpecificStepWeights4Agents\": [],\n",
      " \"StepWeights\": [1, 1, 1, 1, 1],\n",
      " \"defaultAction\": \"random\"}\n"
     ]
    }
   ],
   "source": [
    "# View  Template Scenario\n",
    "pretty_print_json = pprint.pformat(Scenario,width=150).replace(\"'\", '\"')\n",
    "print(pretty_print_json)"
   ]
  },
  {
   "cell_type": "markdown",
   "id": "f1fb75a2",
   "metadata": {},
   "source": [
    "---\n",
    "\n",
    "\n",
    "# Generate New Map\n",
    "The following commands can be useful in defining a NewMap for the scenario\n",
    "\n",
    "- The Map of the GWorld Scenario is represented by a Matrix of ones and zeros. \n",
    "- **Ones** represent **valid locations** the agents in the simulation can occupy.\n",
    "- **Zeros** represent **invalid locations which cannot be occupied by agents."
   ]
  },
  {
   "cell_type": "code",
   "execution_count": 4,
   "id": "524ea44b",
   "metadata": {},
   "outputs": [
    {
     "name": "stdout",
     "output_type": "stream",
     "text": [
      "[[1. 1. 1. 1. 1. 1. 1. 1. 1. 1. 1. 1. 1. 1. 1. 1.]\n",
      " [1. 0. 0. 0. 0. 1. 0. 0. 0. 0. 1. 0. 0. 0. 0. 1.]\n",
      " [1. 0. 0. 0. 0. 1. 1. 1. 1. 1. 1. 0. 0. 0. 0. 1.]\n",
      " [1. 0. 0. 0. 0. 1. 0. 0. 0. 0. 1. 0. 0. 0. 0. 1.]\n",
      " [1. 0. 0. 0. 0. 1. 0. 0. 0. 0. 1. 0. 0. 0. 0. 1.]\n",
      " [1. 0. 0. 0. 0. 1. 0. 0. 0. 0. 1. 0. 0. 0. 0. 1.]\n",
      " [1. 0. 0. 0. 0. 1. 0. 0. 0. 0. 1. 0. 0. 0. 0. 1.]\n",
      " [1. 0. 0. 0. 0. 1. 1. 1. 1. 1. 1. 0. 0. 0. 0. 1.]\n",
      " [1. 0. 0. 0. 0. 1. 0. 0. 0. 0. 1. 0. 0. 0. 0. 1.]\n",
      " [1. 1. 1. 1. 1. 1. 1. 1. 1. 1. 1. 1. 1. 1. 1. 1.]]\n"
     ]
    }
   ],
   "source": [
    "# # NewMap = np.ones([5,10])\n",
    "NewMap = np.zeros([10,16])\n",
    "# NewMap = np.ones([10,20])\n",
    "\n",
    "marginx = 4\n",
    "marginy = 1\n",
    "\n",
    "NewMap[0,:] = 1\n",
    "NewMap[-1,:] = 1\n",
    "NewMap[:,0] = 1\n",
    "NewMap[:,-1] = 1\n",
    "\n",
    "\n",
    "NewMap[:,marginx+1] = 1\n",
    "NewMap[:,-(marginx+2)] = 1\n",
    "\n",
    "NewMap[marginy+1,marginx+1:-(marginx+2)] = 1\n",
    "NewMap[-(marginy+2),marginx+1:-(marginx+2)] = 1\n",
    "\n",
    "\n",
    "# # NewMap[:,9] = 1\n",
    "# # NewMap[:,4] = 1\n",
    "# # NewMap[:,5] = 1\n",
    "# # NewMap[:,2] = 1\n",
    "# NewMap[:,7] = 1\n",
    "# NewMap[:,8] = 1\n",
    "\n",
    "\n",
    "print(NewMap)"
   ]
  },
  {
   "cell_type": "code",
   "execution_count": null,
   "id": "24307855",
   "metadata": {
    "pycharm": {
     "name": "#%%\n"
    }
   },
   "outputs": [],
   "source": []
  },
  {
   "cell_type": "markdown",
   "id": "bca58ce1",
   "metadata": {},
   "source": [
    "# Make changes to the values of the Template\n",
    "\n",
    "- `Overwrite = False` ensures that already existing scenarios are not overwritten.\n",
    "\n",
    "---\n",
    "\n",
    "- Use **DirectionWeights** and **StepWeights** to select the relative preference for action selection. These together define the action selection policy of an agent.\n",
    "- **DirectionWeights** and **StepWeights** are the default values for all agents.\n",
    "- To specify different values for specific agents use **SpecificDirectionWeights4Agents** and **SpecificStepWeights4Agents**\n",
    "\n",
    "---\n",
    "\n",
    "- **OneWays** allow for movement in one direction only (from start to stop).\n",
    "- Actions that cause movements from the stop to start of a OneWay results is invalid and trigger collisions\n",
    "- Define OneWays as list of tuples of adjacent locations [ [[x_start,y_start], [x_stop,y_stop]], [[x_start,y_start], [x_stop,y_stop]], ... ]\n",
    "\n",
    "---\n",
    "\n",
    "- **Walls** are also defined between adjacent cells. But movement is blocked in both directions.\n",
    "- Define Walls as list of tuples of adjacent locations [ [[x_start,y_start], [x_stop,y_stop]], [[x_start,y_start], [x_stop,y_stop]], ... ]\n",
    "\n",
    "---"
   ]
  },
  {
   "cell_type": "code",
   "execution_count": 5,
   "id": "b785c6a0",
   "metadata": {},
   "outputs": [],
   "source": [
    "# Making Changes\n",
    "\n",
    "# Overwrite = False\n",
    "Overwrite = True\n",
    "\n",
    "\n",
    "# Scenario['Map']['OneWays'] = [ [[0,0],[0,1]], [[1,1],[0,1]] ]\n",
    "# Scenario['Map']['Walls'] = [ [[0,0],[1,0]], [[1,1],[1,0]] ]\n",
    "Scenario['Map']['Region'] = NewMap.tolist()\n",
    "\n",
    "# 'DirectionWeights' = [Up,Down,left,Right]\n",
    "# Scenario['DirectionWeights'] = [0,0,0,1]\n",
    "# Scenario['StepWeights'] = [1,1,1,1,1]\n",
    "# Scenario['AgentLocations'] = [[2,3],[2,5],[1,7]]\n",
    "Scenario['N_Agents'] = 4\n",
    "Scenario['N_iterations'] = 10\n",
    "Scenario['N_Cases'] = 1\n",
    "# Scenario['SpecificStepWeights4Agents'] = []\n",
    "# Scenario['SpecificDirectionWeights4Agents'] = [[[2],[0,1,0,0]]]\n"
   ]
  },
  {
   "cell_type": "markdown",
   "id": "6409ed7f",
   "metadata": {},
   "source": [
    "# Review New Scenario"
   ]
  },
  {
   "cell_type": "code",
   "execution_count": 6,
   "id": "f3481264",
   "metadata": {},
   "outputs": [
    {
     "name": "stdout",
     "output_type": "stream",
     "text": [
      "{\"AgentLocations\": [],\n",
      " \"DirectionWeights\": [1, 1, 1, 1],\n",
      " \"Map\": {\"OneWays\": [],\n",
      "         \"Region\": [[1.0, 1.0, 1.0, 1.0, 1.0, 1.0, 1.0, 1.0, 1.0, 1.0, 1.0, 1.0, 1.0, 1.0, 1.0, 1.0],\n",
      "                    [1.0, 0.0, 0.0, 0.0, 0.0, 1.0, 0.0, 0.0, 0.0, 0.0, 1.0, 0.0, 0.0, 0.0, 0.0, 1.0],\n",
      "                    [1.0, 0.0, 0.0, 0.0, 0.0, 1.0, 1.0, 1.0, 1.0, 1.0, 1.0, 0.0, 0.0, 0.0, 0.0, 1.0],\n",
      "                    [1.0, 0.0, 0.0, 0.0, 0.0, 1.0, 0.0, 0.0, 0.0, 0.0, 1.0, 0.0, 0.0, 0.0, 0.0, 1.0],\n",
      "                    [1.0, 0.0, 0.0, 0.0, 0.0, 1.0, 0.0, 0.0, 0.0, 0.0, 1.0, 0.0, 0.0, 0.0, 0.0, 1.0],\n",
      "                    [1.0, 0.0, 0.0, 0.0, 0.0, 1.0, 0.0, 0.0, 0.0, 0.0, 1.0, 0.0, 0.0, 0.0, 0.0, 1.0],\n",
      "                    [1.0, 0.0, 0.0, 0.0, 0.0, 1.0, 0.0, 0.0, 0.0, 0.0, 1.0, 0.0, 0.0, 0.0, 0.0, 1.0],\n",
      "                    [1.0, 0.0, 0.0, 0.0, 0.0, 1.0, 1.0, 1.0, 1.0, 1.0, 1.0, 0.0, 0.0, 0.0, 0.0, 1.0],\n",
      "                    [1.0, 0.0, 0.0, 0.0, 0.0, 1.0, 0.0, 0.0, 0.0, 0.0, 1.0, 0.0, 0.0, 0.0, 0.0, 1.0],\n",
      "                    [1.0, 1.0, 1.0, 1.0, 1.0, 1.0, 1.0, 1.0, 1.0, 1.0, 1.0, 1.0, 1.0, 1.0, 1.0, 1.0]],\n",
      "         \"Walls\": []},\n",
      " \"N_Agents\": 4,\n",
      " \"N_Cases\": 1,\n",
      " \"N_iterations\": 10,\n",
      " \"SpecificAction4Agents\": [],\n",
      " \"SpecificDirectionWeights4Agents\": [],\n",
      " \"SpecificStepWeights4Agents\": [],\n",
      " \"StepWeights\": [1, 1, 1, 1, 1],\n",
      " \"defaultAction\": \"random\"}\n"
     ]
    }
   ],
   "source": [
    "# Pretty Formating\n",
    "\n",
    "pretty_print_json = pprint.pformat(Scenario,width=150).replace(\"'\", '\"')\n",
    "print(pretty_print_json)"
   ]
  },
  {
   "cell_type": "code",
   "execution_count": 7,
   "id": "68439bdf",
   "metadata": {},
   "outputs": [
    {
     "name": "stdout",
     "output_type": "stream",
     "text": [
      "Overwriting Scenario:  GameMap\n"
     ]
    },
    {
     "data": {
      "text/plain": [
       "True"
      ]
     },
     "execution_count": 7,
     "metadata": {},
     "output_type": "execute_result"
    }
   ],
   "source": [
    "# Add Scenario to JSON file\n",
    "\n",
    "GWorld.AddJsonScenario(json_filename=Scenario_destination_file,new_scenario=Scenario, new_scenario_name=new_scenario_name, Overwrite = Overwrite)"
   ]
  },
  {
   "cell_type": "code",
   "execution_count": null,
   "id": "14368230",
   "metadata": {},
   "outputs": [],
   "source": []
  }
 ],
 "metadata": {
  "kernelspec": {
   "display_name": "Python 3 (ipykernel)",
   "language": "python",
   "name": "python3"
  },
  "language_info": {
   "codemirror_mode": {
    "name": "ipython",
    "version": 3
   },
   "file_extension": ".py",
   "mimetype": "text/x-python",
   "name": "python",
   "nbconvert_exporter": "python",
   "pygments_lexer": "ipython3",
   "version": "3.8.8"
  }
 },
 "nbformat": 4,
 "nbformat_minor": 5
}